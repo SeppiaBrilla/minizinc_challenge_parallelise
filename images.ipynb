{
 "cells": [
  {
   "cell_type": "code",
   "execution_count": 57,
   "id": "18c5de2f",
   "metadata": {},
   "outputs": [],
   "source": [
    "import matplotlib.pyplot as plt\n",
    "import numpy as np\n",
    "import pandas as pd\n",
    "import json"
   ]
  },
  {
   "cell_type": "code",
   "execution_count": 3,
   "id": "18cdf763",
   "metadata": {},
   "outputs": [],
   "source": [
    "with open(\"data/results.json\") as f:\n",
    "    data = json.load(f)"
   ]
  },
  {
   "cell_type": "code",
   "execution_count": 85,
   "id": "a8658bb1",
   "metadata": {},
   "outputs": [
    {
     "data": {
      "text/plain": [
       "dict_keys(['chuffed', 'cp-sat', 'gecode', 'CPLEX', 'Picat'])"
      ]
     },
     "execution_count": 85,
     "metadata": {},
     "output_type": "execute_result"
    }
   ],
   "source": [
    "data.keys()"
   ]
  },
  {
   "cell_type": "code",
   "execution_count": 103,
   "id": "56d4ec08",
   "metadata": {},
   "outputs": [],
   "source": [
    "solver_name = \"cp-sat\"\n",
    "solver = data[solver_name]\n",
    "pairs = [(1, 2), (1, 4), (1, 8), (2, 4), (2, 8), (4, 8)] if solver_name != \"cp-sat\" else [(1,8)]"
   ]
  },
  {
   "cell_type": "code",
   "execution_count": 104,
   "id": "02553fba",
   "metadata": {},
   "outputs": [
    {
     "data": {
      "image/png": "[encoded data removed]",
      "text/plain": [
       "<Figure size 400x800 with 1 Axes>"
      ]
     },
     "metadata": {},
     "output_type": "display_data"
    }
   ],
   "source": [
    "fig, axes = plt.subplots(1, len(pairs), figsize=((24 / 6) * len(pairs),8))\n",
    "axes = axes if isinstance(axes, np.ndarray) else [axes]\n",
    "fig.suptitle(solver_name if solver_name != \"cp-sat\" else \"ORTools\", fontsize=16)\n",
    "for i, (k1, k2) in enumerate(pairs):\n",
    "    s1 = solver[str(k1)]\n",
    "    s2 = solver[str(k2)]\n",
    "    s1 = sorted(s1, key= lambda x: x[\"model\"]+x[\"name\"])\n",
    "    s2 = sorted(s2, key= lambda x: x[\"model\"]+x[\"name\"])\n",
    "    t = [s1[i][\"time\"]/s2[i][\"time\"] for i in range(len(s1)) if s1[i][\"objective\"] == s2[i][\"objective\"]]\n",
    "    axes[i].boxplot(t)\n",
    "    axes[i].set_xticks([1])\n",
    "    axes[i].set_title(f\"{len(t)}/200 instances\")\n",
    "    axes[i].set_xticklabels([f'{k1}/{k2}'])\n",
    "    axes[i].set_yscale(\"log\")\n",
    "    axes[i].axhline(k2 / k1, c='red', label=f\"{k2 / k1}\")\n",
    "    axes[i].legend()\n",
    "    axes[i].grid()\n",
    "plt.savefig(f\"data/figures/{solver_name}_improvement.pdf\", format=\"pdf\")\n",
    "plt.show()"
   ]
  },
  {
   "cell_type": "code",
   "execution_count": 59,
   "id": "47d14a31",
   "metadata": {},
   "outputs": [
    {
     "data": {
      "text/plain": [
       "(np.float64(1.000028330122586), np.float64(1.6066760272331617))"
      ]
     },
     "execution_count": 59,
     "metadata": {},
     "output_type": "execute_result"
    }
   ],
   "source": [
    "np.median(t), np.mean(t)"
   ]
  },
  {
   "cell_type": "code",
   "execution_count": 22,
   "id": "61ad90cb",
   "metadata": {},
   "outputs": [
    {
     "data": {
      "text/plain": [
       "{'name': 'FBDk06',\n",
       " 'model': 'FBD1',\n",
       " 'time': 11294,\n",
       " 'objective': 103,\n",
       " 'search': 'Minimise',\n",
       " 'optimal': 'Optimal'}"
      ]
     },
     "execution_count": 22,
     "metadata": {},
     "output_type": "execute_result"
    }
   ],
   "source": [
    "s1[1]"
   ]
  },
  {
   "cell_type": "code",
   "execution_count": 23,
   "id": "ec81c4d5",
   "metadata": {},
   "outputs": [
    {
     "data": {
      "text/plain": [
       "{'name': 'FBDk06',\n",
       " 'model': 'FBD1',\n",
       " 'time': 5565,\n",
       " 'objective': 103,\n",
       " 'search': 'Minimise',\n",
       " 'optimal': 'Optimal'}"
      ]
     },
     "execution_count": 23,
     "metadata": {},
     "output_type": "execute_result"
    }
   ],
   "source": [
    "s2[1]"
   ]
  },
  {
   "cell_type": "code",
   "execution_count": null,
   "id": "c99e9775",
   "metadata": {},
   "outputs": [],
   "source": []
  }
 ],
 "metadata": {
  "kernelspec": {
   "display_name": "ml",
   "language": "python",
   "name": "python3"
  },
  "language_info": {
   "codemirror_mode": {
    "name": "ipython",
    "version": 3
   },
   "file_extension": ".py",
   "mimetype": "text/x-python",
   "name": "python",
   "nbconvert_exporter": "python",
   "pygments_lexer": "ipython3",
   "version": "3.12.3"
  }
 },
 "nbformat": 4,
 "nbformat_minor": 5
}
